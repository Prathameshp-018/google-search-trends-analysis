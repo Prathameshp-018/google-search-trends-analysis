{
 "cells": [
  {
   "cell_type": "code",
   "execution_count": null,
   "id": "80520afa-5d29-454b-9995-54c777205b31",
   "metadata": {},
   "outputs": [],
   "source": [
    "pip install pytrends matplotlib pandas seaborn plotly\n"
   ]
  },
  {
   "cell_type": "code",
   "execution_count": null,
   "id": "26ee9a8f-f283-4567-b1ed-0ef2ef9e88db",
   "metadata": {},
   "outputs": [],
   "source": [
    "from pytrends.request import TrendReq\n",
    "import pandas as pd\n",
    "import matplotlib.pyplot as plt\n",
    "import seaborn as sns\n",
    "import plotly.express as px"
   ]
  },
  {
   "cell_type": "code",
   "execution_count": null,
   "id": "bc8904d1",
   "metadata": {},
   "outputs": [],
   "source": []
  },
  {
   "cell_type": "markdown",
   "id": "4291c9e8-f435-473e-9d71-c38df875fb2b",
   "metadata": {},
   "source": [
    "# setup pytrend library and keyword define\n"
   ]
  },
  {
   "cell_type": "code",
   "execution_count": null,
   "id": "25e5889d-4a12-49f3-b2a9-e10ebe25adb0",
   "metadata": {},
   "outputs": [],
   "source": [
    "pytrends = TrendReq(hl='en-US', tz=360)\n",
    "keyword = \"cloud computing\""
   ]
  },
  {
   "cell_type": "markdown",
   "id": "44182a62-ddcf-4fe5-9637-c11271788a6a",
   "metadata": {},
   "source": [
    "# Data Request"
   ]
  },
  {
   "cell_type": "code",
   "execution_count": null,
   "id": "c01d5ae3-ed88-447d-abdb-c744a4369983",
   "metadata": {},
   "outputs": [],
   "source": [
    "pytrends.build_payload([keyword], cat=0, timeframe='today 12-m', geo='', gprop='')"
   ]
  },
  {
   "cell_type": "markdown",
   "id": "01307298-70c4-4570-ad78-13e35914afa4",
   "metadata": {},
   "source": [
    "# country wise interest"
   ]
  },
  {
   "cell_type": "code",
   "execution_count": null,
   "id": "5dec99a1-4fe3-40d4-909f-76aa96216019",
   "metadata": {},
   "outputs": [],
   "source": [
    "region_data = pytrends.interest_by_region()\n",
    "region_data = region_data.sort_values(by=keyword, ascending=False).head(15)\n",
    "region_data.head()"
   ]
  },
  {
   "cell_type": "code",
   "execution_count": null,
   "id": "f8e6dfe4-92e5-4376-88e7-adb4415f2d9f",
   "metadata": {},
   "outputs": [],
   "source": [
    "plt.figure(figsize=(10,6))\n",
    "sns.barplot(x=region_data[keyword], y=region_data.index, palette=\"Blues_d\")\n",
    "plt.title(f\"Top Countries searching for '{keyword}'\")\n",
    "plt.xlabel(\"Interest\")\n",
    "plt.ylabel(\"Country\")\n",
    "plt.show()\n"
   ]
  },
  {
   "cell_type": "markdown",
   "id": "e4baf53d-5f49-4bcb-9ff0-abc0eb5a3a39",
   "metadata": {},
   "source": [
    "# World Map"
   ]
  },
  {
   "cell_type": "code",
   "execution_count": null,
   "id": "ef12e923-de47-4154-8391-94da9c3d2eb0",
   "metadata": {},
   "outputs": [],
   "source": [
    "region_data = region_data.reset_index()\n",
    "\n",
    "fig = px.choropleth(\n",
    "    region_data,\n",
    "    locations='geoName',\n",
    "    locationmode='country names',\n",
    "    color=keyword,\n",
    "    title=f\"Search Interest for '{keyword}' by Country\",\n",
    "    color_continuous_scale='Blues'\n",
    ")\n",
    "fig.show()\n"
   ]
  },
  {
   "cell_type": "markdown",
   "id": "27835311-5b5b-4fc5-a3f4-2b6d161890b8",
   "metadata": {},
   "source": [
    "# time wise interest"
   ]
  },
  {
   "cell_type": "code",
   "execution_count": null,
   "id": "0a9490dd-6d25-42e5-9097-44fd1c5e8812",
   "metadata": {},
   "outputs": [],
   "source": [
    "time_df = pytrends.interest_over_time()\n",
    "time_df.head()"
   ]
  },
  {
   "cell_type": "code",
   "execution_count": null,
   "id": "b01f32f8-09d0-4f71-89e8-494b2efa98f0",
   "metadata": {},
   "outputs": [],
   "source": [
    "plt.figure(figsize=(12,6))\n",
    "plt.plot(time_df.index, time_df[keyword], marker='o', color='purple')\n",
    "plt.title(f\"Search interest over time for '{keyword}'\")\n",
    "plt.xlabel(\"Date\")\n",
    "plt.ylabel(\"Interest\")\n",
    "plt.grid(True)\n",
    "plt.show()\n"
   ]
  },
  {
   "cell_type": "code",
   "execution_count": null,
   "id": "edf79957-a0d5-4d1e-bc05-10109c1513ee",
   "metadata": {},
   "outputs": [],
   "source": [
    "import sys\n",
    "print(sys.executable)\n"
   ]
  },
  {
   "cell_type": "code",
   "execution_count": null,
   "id": "aa48d93e-1789-41cf-a564-882df9c570ae",
   "metadata": {},
   "outputs": [],
   "source": []
  },
  {
   "cell_type": "code",
   "execution_count": null,
   "id": "2344401c-9517-47b0-bea0-68027333e063",
   "metadata": {},
   "outputs": [],
   "source": []
  }
 ],
 "metadata": {
  "kernelspec": {
   "display_name": "google_env",
   "language": "python",
   "name": "python3"
  },
  "language_info": {
   "codemirror_mode": {
    "name": "ipython",
    "version": 3
   },
   "file_extension": ".py",
   "mimetype": "text/x-python",
   "name": "python",
   "nbconvert_exporter": "python",
   "pygments_lexer": "ipython3",
   "version": "3.11.13"
  }
 },
 "nbformat": 4,
 "nbformat_minor": 5
}
